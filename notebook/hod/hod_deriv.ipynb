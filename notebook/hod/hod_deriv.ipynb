{
 "cells": [
  {
   "cell_type": "markdown",
   "metadata": {},
   "source": [
    "In this notebook I will: \n",
    "- determine the appropriate parameter step sizes for the numerical derivatives. Mainly we want to get away with the smallest step sizes for $\\log M_{\\rm min}$ and $\\sigma_{\\log M}$ due to the halo mass limit of the standard simulations \n",
    "- compare the derivatives taken at the fiducial HOD (w/ standard resolution sims) to the derivatives taken at the $M_r < -22$ best-fit HOD (w/ higher resolution sims). If they're similar, that's better since that means we're more or less close to an observed sample"
   ]
  },
  {
   "cell_type": "code",
   "execution_count": 1,
   "metadata": {},
   "outputs": [],
   "source": [
    "import os \n",
    "import scipy as sp \n",
    "import numpy as np \n",
    "# --- eMaNu --- \n",
    "from emanu import util as UT\n",
    "from emanu import forwardmodel as FM\n",
    "from emanu.hades import data as hadesData\n",
    "# -- pyspectrum -- \n",
    "from pyspectrum import pyspectrum as pySpec\n",
    "# --- corrfunc -- \n",
    "from Corrfunc.theory import wp as wpCF"
   ]
  },
  {
   "cell_type": "code",
   "execution_count": 2,
   "metadata": {},
   "outputs": [],
   "source": [
    "# --- plotting --- \n",
    "import matplotlib as mpl\n",
    "import matplotlib.pyplot as plt\n",
    "from matplotlib.patches import Ellipse\n",
    "from matplotlib.ticker import StrMethodFormatter, NullFormatter\n",
    "from mpl_toolkits.axes_grid1.inset_locator import inset_axes\n",
    "from mpl_toolkits.axes_grid1.inset_locator import mark_inset\n",
    "from matplotlib.colors import LogNorm\n",
    "from matplotlib.colors import SymLogNorm\n",
    "mpl.rcParams['text.usetex'] = True\n",
    "mpl.rcParams['font.family'] = 'serif'\n",
    "mpl.rcParams['axes.linewidth'] = 1.5\n",
    "mpl.rcParams['axes.xmargin'] = 1\n",
    "mpl.rcParams['xtick.labelsize'] = 'x-large'\n",
    "mpl.rcParams['xtick.major.size'] = 5\n",
    "mpl.rcParams['xtick.major.width'] = 1.5\n",
    "mpl.rcParams['ytick.labelsize'] = 'x-large'\n",
    "mpl.rcParams['ytick.major.size'] = 5\n",
    "mpl.rcParams['ytick.major.width'] = 1.5\n",
    "mpl.rcParams['legend.frameon'] = False\n",
    "%matplotlib inline "
   ]
  },
  {
   "cell_type": "code",
   "execution_count": 3,
   "metadata": {},
   "outputs": [],
   "source": [
    "# halo catalogs \n",
    "halos = hadesData.hadesMnuHalos(0., 1, 4, mh_min=None, dir='/Users/ChangHoon/data/emanu/halos/hades/0.0eV/1')\n",
    "Mh_min = np.log10(np.array(halos['Mass']).min()) \n",
    "# hi res halo catalog\n",
    "halos_hires = hadesData.hadesMnuHalos(0., '1_hires', 4, mh_min=None, dir='/Users/ChangHoon/data/emanu/halos/hades/0.0eV/1_hires')"
   ]
  },
  {
   "cell_type": "code",
   "execution_count": 4,
   "metadata": {},
   "outputs": [],
   "source": [
    "theta_lbls = [r'$\\log M_{\\rm min}$', r'$\\sigma_{\\log M}$',r'$\\log M_0$',r'$\\alpha$',r'$\\log M_1$']\n",
    "hod_fid = np.array([14.22, 0.55, 14.00, 0.87, 14.69]) # fiducial HOD parameters (selected from hod_fiducial.ipynb)\n",
    "hod_Mr22 = np.array([14.22, 0.77, 14.00, 0.87, 14.69]) # Zheng+(2007) Mr<-22"
   ]
  },
  {
   "cell_type": "code",
   "execution_count": 5,
   "metadata": {},
   "outputs": [],
   "source": [
    "def pk_model(halos, tt, rsd=True, seed=None): \n",
    "    ''' wrapper for populating halos and calculating Pk \n",
    "    '''\n",
    "    # population halos \n",
    "    hod = FM.hodGalaxies(halos, {'logMmin': tt[0], 'sigma_logM': tt[1], 'logM0': tt[2], 'alpha': tt[3], 'logM1': tt[4]}, seed=seed)\n",
    "    # apply RSD \n",
    "    if rsd: xyz = FM.RSD(hod) \n",
    "    else: xyz = np.array(hod['Position']) \n",
    "    # calculate wp \n",
    "    _pk = pySpec.Pk_periodic(xyz.T, Lbox=1000, Ngrid=360, fft='pyfftw', silent=True)\n",
    "    return _pk['k'], _pk['p0k']\n",
    "\n",
    "rbins = np.array([0.1, 0.15848932, 0.25118864, 0.39810717, 0.63095734, 1., 1.58489319, 2.51188643, 3.98107171, 6.30957344, 10., 15.84893192, 25.11886432]) \n",
    "def wp_model(halos, tt, rsd=True, seed=None): \n",
    "    ''' wrapper for populating halos and calculating wp \n",
    "    '''\n",
    "    # population halos \n",
    "    hod = FM.hodGalaxies(halos, {'logMmin': tt[0], 'sigma_logM': tt[1], 'logM0': tt[2], 'alpha': tt[3], 'logM1': tt[4]}, seed=seed) \n",
    "    # apply RSD \n",
    "    if rsd: xyz = FM.RSD(hod) \n",
    "    else: xyz = np.array(hod['Position']) \n",
    "    # calculate wp \n",
    "    _wp = wpCF(1000., 40., 1, rbins, xyz[:,0], xyz[:,1], xyz[:,2], verbose=False, output_rpavg=False) \n",
    "    return _wp['wp']\n",
    "\n",
    "\n",
    "def dwpdtheta(halos, tt, dtt, rsd=True, log=True, nreal=1): \n",
    "    ''' calculate all dP(k)/dtheta derivatives numerically\n",
    "    '''\n",
    "    dwps = [] \n",
    "    for i in range(len(tt)): \n",
    "        _ttp = tt.copy() \n",
    "        _ttm = tt.copy() \n",
    "        _ttp[i] = tt[i] + dtt[i] \n",
    "        _ttm[i] = tt[i] - dtt[i] \n",
    "        wpp, wpm = [], [] \n",
    "        for ireal in range(nreal): \n",
    "            _wpp = wp_model(halos, _ttp, rsd=rsd, seed=ireal)\n",
    "            _wpm = wp_model(halos, _ttm, rsd=rsd, seed=ireal)\n",
    "            wpp.append(_wpp)\n",
    "            wpm.append(_wpm)\n",
    "        wpp = np.average(np.array(wpp), axis=0)\n",
    "        wpm = np.average(np.array(wpm), axis=0) \n",
    "        if log: dwp = 0.5*(np.log(wpp) - np.log(wpm))/dtt[i]\n",
    "        else: dwp = 0.5*(wpp - wpm)/dtt[i]\n",
    "        dwps.append(dwp) \n",
    "    return dwps\n",
    "\n",
    "\n",
    "def dpkdtheta(halos, tt, dtt, rsd=True, log=True, nreal=1): \n",
    "    ''' calculate all dP(k)/dtheta derivatives numerically\n",
    "    '''\n",
    "    dpks = [] \n",
    "    for i in range(len(tt)): \n",
    "        _ttp = tt.copy() \n",
    "        _ttm = tt.copy() \n",
    "        _ttp[i] = tt[i] + dtt[i] \n",
    "        _ttm[i] = tt[i] - dtt[i] \n",
    "        pkp, pkm = [], [] \n",
    "        for ireal in range(nreal): \n",
    "            k, _pkp = pk_model(halos, _ttp, rsd=rsd, seed=ireal)\n",
    "            k, _pkm = pk_model(halos, _ttm, rsd=rsd, seed=ireal)\n",
    "            pkp.append(_pkp)\n",
    "            pkm.append(_pkm)\n",
    "        pkp = np.average(np.array(pkp), axis=0)\n",
    "        pkm = np.average(np.array(pkm), axis=0)\n",
    "        if log: dpk = 0.5*(np.log(pkp) - np.log(pkm))/dtt[i] \n",
    "        else: dpk = 0.5*(pkp - pkm)/dtt[i]\n",
    "        dpks.append(dpk) \n",
    "    return k, dpks"
   ]
  },
  {
   "cell_type": "markdown",
   "metadata": {},
   "source": [
    "Lets calculate the derivatives using the higher resolution halo catalog to deterimine the *correct* step size. Then lets check that there's no significant difference with the lower resolution simulations."
   ]
  },
  {
   "cell_type": "code",
   "execution_count": null,
   "metadata": {},
   "outputs": [],
   "source": [
    "dtt0 = np.array([0.05, 0.05, 0.1, 0.1, 0.05])\n",
    "dtt1 = np.array([0.075, 0.075, 0.15, 0.15, 0.075])\n",
    "dtt2 = np.array([0.1, 0.1, 0.2, 0.2, 0.1]) \n",
    "dtt3 = np.array([0.15, 0.15, 0.3, 0.3, 0.15])\n",
    "\n",
    "dlogwps0_hr = dwpdtheta(halos_hires, hod_fid, dtt0, rsd=True, log=True, nreal=10)\n",
    "dlogwps1_hr = dwpdtheta(halos_hires, hod_fid, dtt1, rsd=True, log=True, nreal=10)\n",
    "dlogwps2_hr = dwpdtheta(halos_hires, hod_fid, dtt2, rsd=True, log=True, nreal=10)\n",
    "dlogwps3_hr = dwpdtheta(halos_hires, hod_fid, dtt3, rsd=True, log=True, nreal=10)"
   ]
  },
  {
   "cell_type": "code",
   "execution_count": null,
   "metadata": {},
   "outputs": [],
   "source": [
    "fig = plt.figure(figsize=(20, 4))\n",
    "for i in range(5):\n",
    "    sub = fig.add_subplot(1,5,i+1)\n",
    "    sub.plot(0.5*(rbins[1:] + rbins[:-1]), dlogwps0_hr[i], c='k')\n",
    "    sub.plot(0.5*(rbins[1:] + rbins[:-1]), dlogwps1_hr[i], c='C0')\n",
    "    sub.plot(0.5*(rbins[1:] + rbins[:-1]), dlogwps2_hr[i], c='C1')\n",
    "    sub.plot(0.5*(rbins[1:] + rbins[:-1]), dlogwps3_hr[i], c='C2')\n",
    "\n",
    "    sub.set_xscale('log') \n",
    "    sub.set_xlim(1e-1, 25) \n",
    "    if i == 0: sub.text(0.05, 0.05, 'high res.', ha='left', va='bottom', transform=sub.transAxes, fontsize=20)\n",
    "bkgd = fig.add_subplot(111, frameon=False)\n",
    "bkgd.set_xlabel('$r_p$', fontsize=25) \n",
    "bkgd.set_ylabel(r'${\\rm d} \\log w_p/{\\rm d} \\theta$', fontsize=25) \n",
    "bkgd.tick_params(labelcolor='none', top=False, bottom=False, left=False, right=False)"
   ]
  },
  {
   "cell_type": "code",
   "execution_count": null,
   "metadata": {},
   "outputs": [],
   "source": [
    "dlogwps0_lr = dwpdtheta(halos, hod_fid, dtt0, rsd=True, log=True, nreal=5)\n",
    "dlogwps1_lr = dwpdtheta(halos, hod_fid, dtt1, rsd=True, log=True, nreal=5)\n",
    "dlogwps2_lr = dwpdtheta(halos, hod_fid, dtt2, rsd=True, log=True, nreal=5)"
   ]
  },
  {
   "cell_type": "code",
   "execution_count": null,
   "metadata": {},
   "outputs": [],
   "source": [
    "fig = plt.figure(figsize=(20, 8))\n",
    "for i in range(5):\n",
    "    sub = fig.add_subplot(2,5,i+1)\n",
    "    sub.plot(0.5*(rbins[1:] + rbins[:-1]), dlogwps0_lr[i], c='k')\n",
    "    sub.plot(0.5*(rbins[1:] + rbins[:-1]), dlogwps1_lr[i], c='C0')\n",
    "    sub.plot(0.5*(rbins[1:] + rbins[:-1]), dlogwps2_lr[i], c='C1')\n",
    "    sub.set_xscale('log') \n",
    "    sub.set_xlim(1e-1, 25) \n",
    "    sub.set_xticklabels([])\n",
    "    sub.set_title(theta_lbls[i], fontsize=20)\n",
    "    if i == 0: sub.text(0.05, 0.05, 'std res.', ha='left', va='bottom', transform=sub.transAxes, fontsize=20)\n",
    "    \n",
    "    sub = fig.add_subplot(2,5,i+6)\n",
    "    sub.plot(0.5*(rbins[1:] + rbins[:-1]), dlogwps0_hr[i], c='k')\n",
    "    sub.plot(0.5*(rbins[1:] + rbins[:-1]), dlogwps1_hr[i], c='C0')\n",
    "    sub.plot(0.5*(rbins[1:] + rbins[:-1]), dlogwps2_hr[i], c='C1')\n",
    "    sub.set_xscale('log') \n",
    "    sub.set_xlim(1e-1, 25) \n",
    "    if i == 0: sub.text(0.05, 0.05, 'high res.', ha='left', va='bottom', transform=sub.transAxes, fontsize=20)\n",
    "bkgd = fig.add_subplot(111, frameon=False)\n",
    "bkgd.set_xlabel('$r_p$', fontsize=25) \n",
    "bkgd.set_ylabel(r'${\\rm d} \\log w_p/{\\rm d} \\theta$', fontsize=25) \n",
    "bkgd.tick_params(labelcolor='none', top=False, bottom=False, left=False, right=False)"
   ]
  },
  {
   "cell_type": "code",
   "execution_count": null,
   "metadata": {},
   "outputs": [],
   "source": [
    "_, dlogpks0_hr = dpkdtheta(halos_hires, hod_fid, dtt0, rsd=True, log=True, nreal=1)\n",
    "_, dlogpks1_hr = dpkdtheta(halos_hires, hod_fid, dtt1, rsd=True, log=True, nreal=1)\n",
    "_, dlogpks2_hr = dpkdtheta(halos_hires, hod_fid, dtt2, rsd=True, log=True, nreal=1)\n",
    "\n",
    "_, dlogpks0_lr = dpkdtheta(halos, hod_fid, dtt0, rsd=True, log=True, nreal=1)\n",
    "_, dlogpks1_lr = dpkdtheta(halos, hod_fid, dtt1, rsd=True, log=True, nreal=1)\n",
    "k, dlogpks2_lr = dpkdtheta(halos, hod_fid, dtt2, rsd=True, log=True, nreal=1)"
   ]
  },
  {
   "cell_type": "code",
   "execution_count": null,
   "metadata": {},
   "outputs": [],
   "source": [
    "fig = plt.figure(figsize=(20, 8))\n",
    "for i in range(5):\n",
    "    sub = fig.add_subplot(2,5,i+1)\n",
    "    sub.plot(k, dlogpks0_lr[i], c='k')\n",
    "    sub.plot(k, dlogpks1_lr[i], c='C0')\n",
    "    sub.plot(k, dlogpks2_lr[i], c='C1')\n",
    "    sub.set_xscale('log') \n",
    "    sub.set_xlim(5e-3, 0.5) \n",
    "    sub.set_xticklabels([])\n",
    "    sub.set_title(theta_lbls[i], fontsize=20)\n",
    "    if i == 0: sub.text(0.05, 0.05, 'std res.', ha='left', va='bottom', transform=sub.transAxes, fontsize=20)\n",
    "    \n",
    "    sub = fig.add_subplot(2,5,i+6)\n",
    "    sub.plot(k, dlogpks0_hr[i], c='k')\n",
    "    sub.plot(k, dlogpks1_hr[i], c='C0')\n",
    "    sub.plot(k, dlogpks2_hr[i], c='C1')\n",
    "    sub.set_xscale('log') \n",
    "    sub.set_xlim(1e-1, 25) \n",
    "    if i == 0: sub.text(0.05, 0.05, 'high res.', ha='left', va='bottom', transform=sub.transAxes, fontsize=20)\n",
    "bkgd = fig.add_subplot(111, frameon=False)\n",
    "bkgd.set_xlabel('$k$', fontsize=25) \n",
    "bkgd.set_ylabel(r'${\\rm d} \\log P_0/{\\rm d} \\theta$', fontsize=25) \n",
    "bkgd.tick_params(labelcolor='none', top=False, bottom=False, left=False, right=False)"
   ]
  },
  {
   "cell_type": "code",
   "execution_count": null,
   "metadata": {},
   "outputs": [],
   "source": []
  }
 ],
 "metadata": {
  "kernelspec": {
   "display_name": "Python 2",
   "language": "python",
   "name": "python2"
  },
  "language_info": {
   "codemirror_mode": {
    "name": "ipython",
    "version": 2
   },
   "file_extension": ".py",
   "mimetype": "text/x-python",
   "name": "python",
   "nbconvert_exporter": "python",
   "pygments_lexer": "ipython2",
   "version": "2.7.15"
  }
 },
 "nbformat": 4,
 "nbformat_minor": 2
}

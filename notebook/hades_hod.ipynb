{
 "cells": [
  {
   "cell_type": "code",
   "execution_count": 1,
   "metadata": {},
   "outputs": [],
   "source": [
    "import os\n",
    "import numpy as np\n",
    "# emanu \n",
    "import emanu.hades.readsnap as RS\n",
    "from emanu.hades import readfof\n",
    "from emanu.hades import data as hadesData\n",
    "from emanu import forwardmodel as FM "
   ]
  },
  {
   "cell_type": "code",
   "execution_count": 47,
   "metadata": {},
   "outputs": [],
   "source": [
    "import matplotlib as mpl\n",
    "import matplotlib.pyplot as plt\n",
    "from matplotlib.colors import LogNorm\n",
    "from matplotlib.colors import SymLogNorm\n",
    "mpl.rcParams['text.usetex'] = True\n",
    "mpl.rcParams['font.family'] = 'serif'\n",
    "mpl.rcParams['axes.linewidth'] = 1.5\n",
    "mpl.rcParams['axes.xmargin'] = 1\n",
    "mpl.rcParams['xtick.labelsize'] = 'x-large'\n",
    "mpl.rcParams['xtick.major.size'] = 5\n",
    "mpl.rcParams['xtick.major.width'] = 1.5\n",
    "mpl.rcParams['ytick.labelsize'] = 'x-large'\n",
    "mpl.rcParams['ytick.major.size'] = 5\n",
    "mpl.rcParams['ytick.major.width'] = 1.5\n",
    "mpl.rcParams['legend.frameon'] = False\n",
    "%matplotlib inline"
   ]
  },
  {
   "cell_type": "code",
   "execution_count": 2,
   "metadata": {},
   "outputs": [
    {
     "name": "stdout",
     "output_type": "stream",
     "text": [
      "The slowest run took 11.13 times longer than the fastest. This could mean that an intermediate result is being cached.\n",
      "10000 loops, best of 3: 70.5 µs per loop\n"
     ]
    }
   ],
   "source": [
    "%timeit RS.read_gadget_header('/Users/ChangHoon/data/emanu/halos/hades/0.0eV/1/snapdir_004/snap_004')"
   ]
  },
  {
   "cell_type": "code",
   "execution_count": 3,
   "metadata": {},
   "outputs": [
    {
     "name": "stdout",
     "output_type": "stream",
     "text": [
      "10 loops, best of 3: 96.1 ms per loop\n"
     ]
    }
   ],
   "source": [
    "%timeit readfof.FoF_catalog('/Users/ChangHoon/data/emanu/halos/hades/0.0eV/1', 4, long_ids=False, swap=False, SFR=False)"
   ]
  },
  {
   "cell_type": "code",
   "execution_count": 4,
   "metadata": {},
   "outputs": [
    {
     "name": "stdout",
     "output_type": "stream",
     "text": [
      "1 loop, best of 3: 1.35 s per loop\n"
     ]
    }
   ],
   "source": [
    "%timeit hadesData.hadesMnuHalos(0., 1, 4, mh_min=3200., dir='/Users/ChangHoon/data/emanu/halos/hades/0.0eV/1')"
   ]
  },
  {
   "cell_type": "code",
   "execution_count": 5,
   "metadata": {},
   "outputs": [],
   "source": [
    "halos = hadesData.hadesMnuHalos(0., 1, 4, mh_min=3200., dir='/Users/ChangHoon/data/emanu/halos/hades/0.0eV/1')"
   ]
  },
  {
   "cell_type": "code",
   "execution_count": 41,
   "metadata": {},
   "outputs": [
    {
     "name": "stdout",
     "output_type": "stream",
     "text": [
      "1 loop, best of 3: 638 ms per loop\n"
     ]
    }
   ],
   "source": [
    "%timeit FM.hodGalaxies(halos, {'logMmin': 13.5, 'sigma_logM': 0.58, 'logM0': 12.59, 'alpha':1.24, 'logM1': 14.55})"
   ]
  },
  {
   "cell_type": "code",
   "execution_count": 43,
   "metadata": {},
   "outputs": [],
   "source": [
    "hod = FM.hodGalaxies(halos, {'logMmin': 13.5, 'sigma_logM': 0.58, 'logM0': 12.59, 'alpha':1.24, 'logM1': 14.55})"
   ]
  },
  {
   "cell_type": "code",
   "execution_count": 44,
   "metadata": {},
   "outputs": [
    {
     "name": "stdout",
     "output_type": "stream",
     "text": [
      "1 loop, best of 3: 190 ms per loop\n"
     ]
    }
   ],
   "source": [
    "%timeit hod.repopulate(10)"
   ]
  },
  {
   "cell_type": "code",
   "execution_count": 40,
   "metadata": {},
   "outputs": [
    {
     "name": "stdout",
     "output_type": "stream",
     "text": [
      "[254.06265  503.42038   79.560455 ... 998.4629   965.8028   989.89465 ]\n"
     ]
    }
   ],
   "source": [
    "print(np.array(hod['x']))"
   ]
  },
  {
   "cell_type": "code",
   "execution_count": 46,
   "metadata": {},
   "outputs": [
    {
     "name": "stdout",
     "output_type": "stream",
     "text": [
      "6736\n"
     ]
    }
   ],
   "source": [
    "zslice = (np.array(hod['halo_z']) < 50.)\n",
    "print np.sum(zslice)"
   ]
  },
  {
   "cell_type": "code",
   "execution_count": 77,
   "metadata": {},
   "outputs": [
    {
     "data": {
      "text/plain": [
       "(15.0, 30.0)"
      ]
     },
     "execution_count": 77,
     "metadata": {},
     "output_type": "execute_result"
    },
    {
     "data": {
      "image/png": "[encoded data removed]",
      "text/plain": [
       "<Figure size 360x360 with 1 Axes>"
      ]
     },
     "metadata": {
      "needs_background": "light"
     },
     "output_type": "display_data"
    }
   ],
   "source": [
    "fig = plt.figure(figsize=(5,5))\n",
    "sub = fig.add_subplot(111)\n",
    "sub.scatter(np.array(hod['halo_x'])[zslice], np.array(hod['halo_y'])[zslice], c='k', s=100, marker='x', label='halos')\n",
    "centrals = (np.array(hod['gal_type']) == 0) & zslice\n",
    "sub.scatter(np.array(hod['x'])[centrals], np.array(hod['y'])[centrals], \n",
    "            edgecolors='C0', facecolors='none', s=50, label='centrals')\n",
    "satellites = (np.array(hod['gal_type']) == 1) & zslice\n",
    "sub.scatter(np.array(hod['x'])[satellites], np.array(hod['y'])[satellites], c='C1', s=5, label='satellites')\n",
    "sub.legend(loc='lower left', handletextpad=0, fontsize=20)\n",
    "sub.set_xlabel('x', fontsize=20)\n",
    "sub.set_xlim(20., 35.)\n",
    "sub.set_ylabel('y', fontsize=20)\n",
    "sub.set_ylim(15., 30.)"
   ]
  },
  {
   "cell_type": "code",
   "execution_count": null,
   "metadata": {},
   "outputs": [],
   "source": []
  }
 ],
 "metadata": {
  "kernelspec": {
   "display_name": "Python 2",
   "language": "python",
   "name": "python2"
  },
  "language_info": {
   "codemirror_mode": {
    "name": "ipython",
    "version": 2
   },
   "file_extension": ".py",
   "mimetype": "text/x-python",
   "name": "python",
   "nbconvert_exporter": "python",
   "pygments_lexer": "ipython2",
   "version": "2.7.15"
  }
 },
 "nbformat": 4,
 "nbformat_minor": 2
}

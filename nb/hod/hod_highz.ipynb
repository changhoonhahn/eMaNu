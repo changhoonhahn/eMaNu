{
 "cells": [
  {
   "cell_type": "markdown",
   "metadata": {},
   "source": [
    "Examine feasible HODs for Molino galaxy catalogs at $z=0.5$ and $1$."
   ]
  },
  {
   "cell_type": "code",
   "execution_count": 1,
   "metadata": {},
   "outputs": [],
   "source": [
    "import os \n",
    "import scipy as sp \n",
    "import numpy as np \n",
    "# --- eMaNu --- \n",
    "from emanu import util as UT\n",
    "from emanu import forwardmodel as FM\n",
    "from emanu.sims import data as simData"
   ]
  },
  {
   "cell_type": "code",
   "execution_count": 2,
   "metadata": {},
   "outputs": [],
   "source": [
    "# --- plotting --- \n",
    "import matplotlib as mpl\n",
    "import matplotlib.pyplot as plt\n",
    "from matplotlib.patches import Ellipse\n",
    "from matplotlib.ticker import StrMethodFormatter, NullFormatter\n",
    "from mpl_toolkits.axes_grid1.inset_locator import inset_axes\n",
    "from mpl_toolkits.axes_grid1.inset_locator import mark_inset\n",
    "from matplotlib.colors import LogNorm\n",
    "from matplotlib.colors import SymLogNorm\n",
    "mpl.rcParams['text.usetex'] = True\n",
    "mpl.rcParams['font.family'] = 'serif'\n",
    "mpl.rcParams['axes.linewidth'] = 1.5\n",
    "mpl.rcParams['axes.xmargin'] = 1\n",
    "mpl.rcParams['xtick.labelsize'] = 'x-large'\n",
    "mpl.rcParams['xtick.major.size'] = 5\n",
    "mpl.rcParams['xtick.major.width'] = 1.5\n",
    "mpl.rcParams['ytick.labelsize'] = 'x-large'\n",
    "mpl.rcParams['ytick.major.size'] = 5\n",
    "mpl.rcParams['ytick.major.width'] = 1.5\n",
    "mpl.rcParams['legend.frameon'] = False\n",
    "%matplotlib inline "
   ]
  },
  {
   "cell_type": "markdown",
   "metadata": {},
   "source": [
    "# read $z=0.5$ and $1$ Quijote halo catalogs"
   ]
  },
  {
   "cell_type": "code",
   "execution_count": 3,
   "metadata": {},
   "outputs": [
    {
     "name": "stderr",
     "output_type": "stream",
     "text": [
      "/opt/anaconda3/envs/emanu/lib/python3.7/site-packages/ipykernel_launcher.py:3: VisibleDeprecationWarning: Reading unicode strings without specifying the encoding argument is deprecated. Set the encoding, use None for the system default.\n",
      "  This is separate from the ipykernel package so we can avoid doing imports until\n"
     ]
    }
   ],
   "source": [
    "# QUIJOTE cosmology lookup table\n",
    "hdr = np.genfromtxt(os.path.join(UT.dat_dir(), 'quijote_header_lookup.dat'), \n",
    "        delimiter='\\t', dtype=None, names=('theta', 'snapnum', 'Om', 'Ol', 'z', 'h', 'Hz'))\n",
    "_cosmos = list(hdr['theta'].astype(str)) \n",
    "i_hdr = _cosmos.index('fiducial')  "
   ]
  },
  {
   "cell_type": "code",
   "execution_count": 4,
   "metadata": {},
   "outputs": [],
   "source": [
    "halos_z0p5 = simData.hqHalos('/Users/chahah/data/emanu/halos/quijote/fiducial/0', None, 3,\n",
    "                        Om=hdr['Om'][i_hdr], Ol=hdr['Ol'][i_hdr], z=hdr['z'][i_hdr], h=hdr['h'][i_hdr], Hz=hdr['Hz'][i_hdr])\n",
    "halos_hr_z0p5 = simData.hqHalos('/Users/chahah/data/emanu/halos/quijote/fiducial_HR/0', None, 3,\n",
    "                              Om=hdr['Om'][i_hdr], Ol=hdr['Ol'][i_hdr], z=hdr['z'][i_hdr], h=hdr['h'][i_hdr], Hz=hdr['Hz'][i_hdr])"
   ]
  },
  {
   "cell_type": "code",
   "execution_count": 8,
   "metadata": {},
   "outputs": [],
   "source": [
    "halos_z1 = simData.hqHalos('/Users/chahah/data/emanu/halos/quijote/fiducial/0', None, 2,\n",
    "                        Om=hdr['Om'][i_hdr], Ol=hdr['Ol'][i_hdr], z=hdr['z'][i_hdr], h=hdr['h'][i_hdr], Hz=hdr['Hz'][i_hdr])\n",
    "halos_hr_z1 = simData.hqHalos('/Users/chahah/data/emanu/halos/quijote/fiducial_HR/0', None, 2,\n",
    "                              Om=hdr['Om'][i_hdr], Ol=hdr['Ol'][i_hdr], z=hdr['z'][i_hdr], h=hdr['h'][i_hdr], Hz=hdr['Hz'][i_hdr])"
   ]
  },
  {
   "cell_type": "markdown",
   "metadata": {},
   "source": [
    "# halo mass limits of standard and high-resolution catalogs"
   ]
  },
  {
   "cell_type": "code",
   "execution_count": 18,
   "metadata": {},
   "outputs": [
    {
     "name": "stdout",
     "output_type": "stream",
     "text": [
      "Standard Resolution M_lim=13.12\n",
      "High Resolution M_lim=12.22\n"
     ]
    }
   ],
   "source": [
    "Mh_lim_sr = np.log10(np.array(halos_z0p5['Mass']).min())\n",
    "Mh_lim_hr = np.log10(np.array(halos_hr_z0p5['Mass']).min())\n",
    "print('Standard Resolution M_lim=%.2f' % Mh_lim_sr)\n",
    "print('High Resolution M_lim=%.2f' % Mh_lim_hr)"
   ]
  },
  {
   "cell_type": "code",
   "execution_count": 16,
   "metadata": {},
   "outputs": [],
   "source": [
    "# Zheng et al. halo occupation functions \n",
    "def Ncen_Mh(tt, logMh): \n",
    "    ''' expected Ncen at Mh \n",
    "    '''\n",
    "    logMmin, sig_logM, _, _, _ = tt\n",
    "    Ncen = 0.5 * (1. + sp.special.erf((logMh - logMmin)/sig_logM)) \n",
    "    Ncen[~np.isfinite(Ncen)] = 0. \n",
    "    return Ncen\n",
    "\n",
    "def Nsat_Mh(tt, logMh): \n",
    "    ''' expected Nsat at Mh\n",
    "    '''\n",
    "    _Ncen = Ncen_Mh(tt, logMh) \n",
    "    _, _, logM0, alpha, logM1 = tt\n",
    "    Nsat = _Ncen * ((10**logMh - 10**logM0)/10**logM1)**alpha\n",
    "    Nsat[~np.isfinite(Nsat)] = 0. \n",
    "    return Nsat \n",
    "\n",
    "def Ngal_Mh(tt, logMh): \n",
    "    return Ncen_Mh(tt, logMh) + Nsat_Mh(tt, logMh)"
   ]
  },
  {
   "cell_type": "markdown",
   "metadata": {},
   "source": [
    "Some best-fits from the literature"
   ]
  },
  {
   "cell_type": "code",
   "execution_count": 42,
   "metadata": {},
   "outputs": [],
   "source": [
    "# HOD parameters: logMmin, sigma_logM, logM0, alpha, logM1\n",
    "white2011 = np.array([13.04, 0.94/(np.log(10)/np.sqrt(2)), np.log10(0.93 * 10**13.04), 0.97, 14.05])\n",
    "zhai2017 = np.array([13.67, 0.81, 11.62, 0.43, 14.93])\n",
    "#fiducial = np.array([13.7, 0.8, 11.6, 0.43, 15.])"
   ]
  },
  {
   "cell_type": "code",
   "execution_count": 43,
   "metadata": {},
   "outputs": [
    {
     "name": "stderr",
     "output_type": "stream",
     "text": [
      "/opt/anaconda3/envs/emanu/lib/python3.7/site-packages/ipykernel_launcher.py:15: RuntimeWarning: invalid value encountered in power\n",
      "  from ipykernel import kernelapp as app\n",
      "/opt/anaconda3/envs/emanu/lib/python3.7/site-packages/ipykernel_launcher.py:15: RuntimeWarning: invalid value encountered in power\n",
      "  from ipykernel import kernelapp as app\n",
      "/opt/anaconda3/envs/emanu/lib/python3.7/site-packages/ipykernel_launcher.py:15: RuntimeWarning: invalid value encountered in power\n",
      "  from ipykernel import kernelapp as app\n"
     ]
    },
    {
     "data": {
      "text/plain": [
       "(0.01, 50.0)"
      ]
     },
     "execution_count": 43,
     "metadata": {},
     "output_type": "execute_result"
    },
    {
     "data": {
      "image/png": "[encoded data removed]",
      "text/plain": [
       "<Figure size 720x432 with 1 Axes>"
      ]
     },
     "metadata": {
      "needs_background": "light"
     },
     "output_type": "display_data"
    }
   ],
   "source": [
    "logMbin = np.linspace(11., 16., 100) # logMh bins\n",
    "\n",
    "fig = plt.figure(figsize=(10,6))\n",
    "sub = fig.add_subplot(111)\n",
    "\n",
    "sub.plot(10**logMbin, Ngal_Mh(white2011, logMbin), label='White+(2011)')\n",
    "sub.plot(10**logMbin, Ngal_Mh(zhai2017, logMbin), label='Zhai+(2017)')\n",
    "sub.plot(10**logMbin, Ngal_Mh(fiducial, logMbin), c='k', label='fiducial')\n",
    "\n",
    "\n",
    "sub.plot([10**Mh_lim_sr, 10**Mh_lim_sr], [1e-3, 1e3], c='k', ls='--', label='SR $M_h$ limit')\n",
    "sub.plot([10**Mh_lim_hr, 10**Mh_lim_hr], [1e-3, 1e3], c='k', ls='-.', label='HR $M_h$ limit')\n",
    "\n",
    "sub.legend(loc='lower right', fontsize=20)\n",
    "sub.set_xlabel('$M_h$', fontsize=25)\n",
    "sub.set_xscale('log')\n",
    "sub.set_xlim(5e11, 5e15)\n",
    "sub.set_ylabel(r'$<N_{\\rm gal}>$', fontsize=25)\n",
    "sub.set_yscale('log')\n",
    "sub.set_ylim(1e-2, 5e1)"
   ]
  },
  {
   "cell_type": "code",
   "execution_count": null,
   "metadata": {},
   "outputs": [],
   "source": []
  }
 ],
 "metadata": {
  "kernelspec": {
   "display_name": "emanu",
   "language": "python",
   "name": "emanu"
  },
  "language_info": {
   "codemirror_mode": {
    "name": "ipython",
    "version": 3
   },
   "file_extension": ".py",
   "mimetype": "text/x-python",
   "name": "python",
   "nbconvert_exporter": "python",
   "pygments_lexer": "ipython3",
   "version": "3.7.7"
  }
 },
 "nbformat": 4,
 "nbformat_minor": 2
}
